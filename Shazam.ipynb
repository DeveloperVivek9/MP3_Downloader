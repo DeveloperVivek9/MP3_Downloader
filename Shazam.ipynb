{
 "cells": [
  {
   "cell_type": "code",
   "execution_count": 1,
   "id": "585c8a53",
   "metadata": {},
   "outputs": [],
   "source": [
    "from glob import glob\n",
    "import itertools\n",
    "import os\n",
    "import time\n",
    "from ShazamAPI import Shazam"
   ]
  },
  {
   "cell_type": "code",
   "execution_count": 2,
   "id": "5119b430",
   "metadata": {},
   "outputs": [],
   "source": [
    "def get_mp3_name(mp3_file,get_all_possible=False):\n",
    "    \"\"\"\n",
    "    Takes in two inputs. mp3_file -> A string and get_all_possible -> a boolean value.\n",
    "    Returns a list of dictionaries where key -> Artist name, value -> Title of song.\n",
    "    \n",
    "    mp3_file -> Name of the file\n",
    "    [including directory in case it's not located in the same directory as the code.]\n",
    "    Example : \"D:/Problem Music/Heheh.mp3\"\n",
    "    \n",
    "    get_all_possible -> If true, gets comparison from shazam for the entire duration of the song. \n",
    "                     -> Else returns the first correct comparison.\n",
    "    \"\"\"\n",
    "    mp3_file_content_to_recognize = open(mp3_file, 'rb').read()\n",
    "    shazam = Shazam(mp3_file_content_to_recognize)\n",
    "    recognize_generator = shazam.recognizeSong()\n",
    "    count=0\n",
    "    LIST=list()\n",
    "    while True:\n",
    "        try:\n",
    "            L=next(recognize_generator)\n",
    "            LIST.append({L[1]['track']['subtitle']:L[1]['track']['title']})\n",
    "            count+=1\n",
    "        except StopIteration:\n",
    "            print(\"Couldn't find any other matches\")\n",
    "            break\n",
    "        except KeyError:\n",
    "            break\n",
    "        except: #CouldntDecodeError:\n",
    "            break\n",
    "        #If statement to get just the first match.\n",
    "        #To get all possible matches, no need for this if statement.\n",
    "        if(get_all_possible==False):\n",
    "            if(count==1):\n",
    "                #print(L[1]['track']['subtitle']+\" - \"+L[1]['track']['title'])\n",
    "                #if(input(\"Is the match correct [Y/N] : \")=='Y'):\n",
    "                    #break\n",
    "                #else:\n",
    "                    #print(\"All possible matches : \")\n",
    "                break\n",
    "    LIST=list(k for k,_ in itertools.groupby(LIST))\n",
    "    return LIST"
   ]
  },
  {
   "cell_type": "code",
   "execution_count": 9,
   "id": "96c5685d",
   "metadata": {},
   "outputs": [],
   "source": [
    "def GET_NAME(mp3_file=None,directory=None,rename=False):    \n",
    "    \"\"\"\n",
    "    Function to shazam either one particular mp3 file or an entire directory \n",
    "    with an option to rename with the comparison from shazam.\n",
    "    \n",
    "    mp3_file (String) -> directory+mp3_filename in case just for one file.\n",
    "    Example : \"D:/Problem Music/Heheh.mp3\"\n",
    "    \n",
    "    directory (String) -> directory path which has the mp3 files we have to shazam. \n",
    "    \n",
    "    rename (Boolean) -> True if we want to rename with the shazam comparison\n",
    "                        False if we simply want to print out the names. \n",
    "    \"\"\"\n",
    "    start_time = time.time()\n",
    "    if(mp3_file == None and directory):\n",
    "        file_list=glob(directory+\"*.mp3\")\n",
    "        file_list=[name.replace(directory[:-1]+\"\\\\\",\"\") for name in file_list]\n",
    "        print(file_list)\n",
    "        for i in file_list:\n",
    "            print(i.replace(\".mp3\",\"\").replace(\".MP3\",\"\"),end=\" : \")\n",
    "            L=get_mp3_name(directory+i,False)\n",
    "            if(len(L)<1):\n",
    "                print(\"Couldn't find a match\")\n",
    "            else:\n",
    "                song,=list(L[0].items())\n",
    "                print(song[0]+\" - \"+song[1])\n",
    "                if(rename):      \n",
    "                    os.rename(directory+i, directory+song[0]+\" - \"+song[1]+\".mp3\")\n",
    "                    print(i+\" renamed to \"+song[0]+\" - \"+song[1])\n",
    "    elif(mp3_file):\n",
    "        L=get_mp3_name(directory+i,False)\n",
    "        if(len(L)<1):\n",
    "            print(\"Couldn't find a match\")\n",
    "        else:\n",
    "            print(L)\n",
    "            song,=list(L[0].items())\n",
    "            if(rename):      \n",
    "                os.rename(directory+i, directory+song[0]+\" - \"+song[1]+\".mp3\")\n",
    "                print(i+\" renamed to \"+song[0]+\" - \"+song[1])\n",
    "    print(\"Execution Time :  %s seconds\" % (time.time() - start_time))"
   ]
  },
  {
   "cell_type": "code",
   "execution_count": 187,
   "id": "6ac7a584",
   "metadata": {},
   "outputs": [
    {
     "name": "stdout",
     "output_type": "stream",
     "text": [
      "Help on function GET_NAME in module __main__:\n",
      "\n",
      "GET_NAME(mp3_file=None, directory=None, rename=False)\n",
      "    Function to shazam either one particular mp3 file or an entire directory \n",
      "    with an option to rename with the comparison from shazam.\n",
      "    \n",
      "    mp3_file (String) -> directory+mp3_filename in case just for one file.\n",
      "    Example : \"D:/Problem Music/Heheh.mp3\"\n",
      "    \n",
      "    directory (String) -> directory path which has the mp3 files we have to shazam. \n",
      "    \n",
      "    rename (Boolean) -> True if we want to rename with the shazam comparison\n",
      "                        False if we simply want to print out the names.\n",
      "\n"
     ]
    }
   ],
   "source": [
    "#help(GET_NAME)"
   ]
  },
  {
   "cell_type": "code",
   "execution_count": 10,
   "id": "541cf07c",
   "metadata": {},
   "outputs": [
    {
     "name": "stdout",
     "output_type": "stream",
     "text": [
      "['Summer - Bensound  Royalty Free Music - No Copyright Music.mp3', 'Walk Off The Earth - Red Hands.mp3']\n",
      "Summer - Bensound  Royalty Free Music - No Copyright Music : Dance Challenge - Bailar\n",
      "Walk Off The Earth - Red Hands : Walk Off the Earth - Red Hands\n",
      "Execution Time :  12.305590152740479 seconds\n"
     ]
    }
   ],
   "source": [
    "#GET_NAME(None,\"D:/Problem Music/\",False)"
   ]
  }
 ],
 "metadata": {
  "kernelspec": {
   "display_name": "Python 3 (ipykernel)",
   "language": "python",
   "name": "python3"
  },
  "language_info": {
   "codemirror_mode": {
    "name": "ipython",
    "version": 3
   },
   "file_extension": ".py",
   "mimetype": "text/x-python",
   "name": "python",
   "nbconvert_exporter": "python",
   "pygments_lexer": "ipython3",
   "version": "3.9.13"
  }
 },
 "nbformat": 4,
 "nbformat_minor": 5
}
