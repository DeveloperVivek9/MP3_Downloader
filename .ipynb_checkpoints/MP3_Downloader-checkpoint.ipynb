{
 "cells": [
  {
   "cell_type": "code",
   "execution_count": 15,
   "id": "a199cb9a",
   "metadata": {},
   "outputs": [],
   "source": [
    "import os\n",
    "import pytube\n",
    "import re\n",
    "import sys\n",
    "import yt_dlp"
   ]
  },
  {
   "cell_type": "code",
   "execution_count": 3,
   "id": "7c4ff540",
   "metadata": {},
   "outputs": [],
   "source": [
    "class HiddenPrints:\n",
    "    def __enter__(self):\n",
    "        self._original_stdout = sys.stdout\n",
    "        sys.stdout = open(os.devnull, 'w')\n",
    "\n",
    "    def __exit__(self, exc_type, exc_val, exc_tb):\n",
    "        sys.stdout.close()\n",
    "        sys.stdout = self._original_stdout"
   ]
  },
  {
   "cell_type": "code",
   "execution_count": 32,
   "id": "4710fdc3",
   "metadata": {},
   "outputs": [],
   "source": [
    "def mp3_downloader(playlist_url,download_directory):\n",
    "    \"\"\"\n",
    "    Takes in two strings : playlist_url, download_directory\n",
    "    playlist_url -> Video link [If url page is of a video link in a playlist, will download entire playlist]\n",
    "                 -> Playlist link to download entire playlist. [Playlist should atleast be unlisted not set to private]\n",
    "                        \n",
    "    download_directory -> Directory to save the files. Example : \"D:/Downloads/\"  \n",
    "    \n",
    "    Usage : \n",
    "    playlist_url=\"https://www.youtube.com/watch?v=KxwUy2S2n-Q&ab_channel=RoyaltyFreeMusic-NoCopyrightMusic\"\n",
    "    download_directory=\"D:/Downloads/\"\n",
    "    mp3_downloader(playlist_url,download_directory)\n",
    "    \"\"\"\n",
    "    try:\n",
    "        video_url_list=list(pytube.contrib.playlist.Playlist(playlist_url))\n",
    "    except KeyError:\n",
    "        video_url_list=[playlist_url]\n",
    "    l=len(video_url_list)\n",
    "    count=1\n",
    "    for video_url in video_url_list:\n",
    "        print(\"Downloading \",count,\" of \",l,\" : \",video_url,\"\\n\")\n",
    "        count+=1\n",
    "        with HiddenPrints():\n",
    "            video_info = yt_dlp.YoutubeDL().extract_info(url = video_url,download=False)\n",
    "            try:\n",
    "                filename = video_info['artist']+\" - \"+video_info['title']+\".mp3\"\n",
    "            except KeyError:\n",
    "                filename = video_info['title']+\".mp3\"\n",
    "            spec=[\"/\",\"\\\\\",\":\",\"*\",\"?\",\"<\",\">\",\"|\",\"\\\"\"]\n",
    "            for x in spec:\n",
    "                filename=filename.replace(x,\"\")\n",
    "            options={\n",
    "                'format':'bestaudio/best',\n",
    "                'keepvideo':False,\n",
    "                'outtmpl':download_directory+filename,\n",
    "                    }\n",
    "            with yt_dlp.YoutubeDL(options) as ydl:\n",
    "                ydl.download([video_info['webpage_url']])\n",
    "        print(\"Download complete : {}\\n\\n\".format(filename))     "
   ]
  },
  {
   "cell_type": "code",
   "execution_count": 33,
   "id": "615ea2cb",
   "metadata": {},
   "outputs": [
    {
     "name": "stdout",
     "output_type": "stream",
     "text": [
      "Help on function mp3_downloader in module __main__:\n",
      "\n",
      "mp3_downloader(playlist_url, download_directory)\n",
      "    Takes in two strings : playlist_url, download_directory\n",
      "    playlist_url -> Video link [If url page is of a video link in a playlist, will download entire playlist]\n",
      "                 -> Playlist link to download entire playlist. [Playlist should atleast be unlisted not set to private]\n",
      "                        \n",
      "    download_directory -> Directory to save the files. Example : \"D:/Downloads/\"  \n",
      "    \n",
      "    Usage : \n",
      "    playlist_url=\"https://www.youtube.com/watch?v=KxwUy2S2n-Q&ab_channel=RoyaltyFreeMusic-NoCopyrightMusic\"\n",
      "    download_directory=\"D:/Downloads/\"\n",
      "    mp3_downloader(playlist_url,download_directory)\n",
      "\n"
     ]
    }
   ],
   "source": [
    "#help(mp3_downloader)"
   ]
  },
  {
   "cell_type": "code",
   "execution_count": 24,
   "id": "49548c2b",
   "metadata": {},
   "outputs": [
    {
     "name": "stdout",
     "output_type": "stream",
     "text": [
      "Downloading  1  of  1  :  https://www.youtube.com/watch?v=KxwUy2S2n-Q&ab_channel=RoyaltyFreeMusic-NoCopyrightMusic \n",
      "\n",
      "Download complete : Summer - Bensound  Royalty Free Music - No Copyright Music.mp3\n",
      "\n",
      "\n"
     ]
    }
   ],
   "source": [
    "#playlist_url=\"https://www.youtube.com/watch?v=KxwUy2S2n-Q&ab_channel=RoyaltyFreeMusic-NoCopyrightMusic\"\n",
    "#download_directory=\"D:/Downloads/\"\n",
    "#mp3_downloader(playlist_url,download_directory)"
   ]
  }
 ],
 "metadata": {
  "kernelspec": {
   "display_name": "Python 3 (ipykernel)",
   "language": "python",
   "name": "python3"
  },
  "language_info": {
   "codemirror_mode": {
    "name": "ipython",
    "version": 3
   },
   "file_extension": ".py",
   "mimetype": "text/x-python",
   "name": "python",
   "nbconvert_exporter": "python",
   "pygments_lexer": "ipython3",
   "version": "3.9.13"
  }
 },
 "nbformat": 4,
 "nbformat_minor": 5
}
