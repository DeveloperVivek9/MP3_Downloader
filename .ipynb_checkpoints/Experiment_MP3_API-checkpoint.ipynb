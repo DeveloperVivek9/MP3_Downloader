{
 "cells": [
  {
   "cell_type": "code",
   "execution_count": 5,
   "id": "a6169c60",
   "metadata": {},
   "outputs": [],
   "source": [
    "import import_ipynb\n",
    "from flask import Flask,request,jsonify\n",
    "from flask import render_template"
   ]
  },
  {
   "cell_type": "code",
   "execution_count": 2,
   "id": "04318575",
   "metadata": {},
   "outputs": [
    {
     "name": "stdout",
     "output_type": "stream",
     "text": [
      "importing Jupyter notebook from MP3_Downloader.ipynb\n"
     ]
    }
   ],
   "source": [
    "import MP3_Downloader"
   ]
  },
  {
   "cell_type": "code",
   "execution_count": 6,
   "id": "14136818",
   "metadata": {},
   "outputs": [],
   "source": [
    "app = Flask(__name__)\n",
    "\n",
    "\"\"\"\n",
    "@app.route(\"/\",methods=['POST'])\n",
    "def show_class():\n",
    "    f = request.files['file'] \n",
    "    f.save(image_path+f.filename)  \n",
    "    mp3_downloader()\n",
    "    data = {\n",
    "            \"Img_name\" : f.filename,\n",
    "            \"Prediction\" : classes,\n",
    "            \"Alias\": synonyms\n",
    "        }\n",
    "    return jsonify(data)\n",
    "\"\"\"\n",
    "@app.route('/')\n",
    "def home():\n",
    "    return \"MP3 Downloader\"\n",
    "\n",
    "@app.route(\"/getmp3\",methods=['POST'])\n",
    "def index():\n",
    "    errors = []\n",
    "    results = {}\n",
    "    url = request.form['url']\n",
    "    r = requests.get(url)\n",
    "    mp3_downloader(url)\n",
    "\n",
    "@app.route('/path/<path:subpath>')\n",
    "def show_subpath(subpath):\n",
    "    return subpath\n",
    "\n",
    "@app.route('/hello/<name>')\n",
    "def hello(name=None):\n",
    "    return render_template('Hello.HTML', name=name)\n",
    "\n",
    "@app.route('/user/<username>')\n",
    "def profile(username):\n",
    "    return '{}\\'s profile'.format(username)\n"
   ]
  },
  {
   "cell_type": "code",
   "execution_count": 7,
   "id": "07c6b767",
   "metadata": {},
   "outputs": [
    {
     "name": "stdout",
     "output_type": "stream",
     "text": [
      " * Serving Flask app \"__main__\" (lazy loading)\n",
      " * Environment: production\n",
      "\u001b[31m   WARNING: This is a development server. Do not use it in a production deployment.\u001b[0m\n",
      "\u001b[2m   Use a production WSGI server instead.\u001b[0m\n",
      " * Debug mode: off\n"
     ]
    },
    {
     "name": "stderr",
     "output_type": "stream",
     "text": [
      " * Running on http://127.0.0.1:5000/ (Press CTRL+C to quit)\n",
      "127.0.0.1 - - [16/Jan/2023 10:43:19] \"GET / HTTP/1.1\" 200 -\n",
      "127.0.0.1 - - [16/Jan/2023 10:43:24] \"GET /hello/John HTTP/1.1\" 200 -\n",
      "127.0.0.1 - - [16/Jan/2023 10:44:02] \"GET /hello/ HTTP/1.1\" 404 -\n",
      "127.0.0.1 - - [16/Jan/2023 10:44:06] \"GET /hello HTTP/1.1\" 404 -\n",
      "127.0.0.1 - - [16/Jan/2023 10:44:11] \"GET /hello/Kelsey HTTP/1.1\" 200 -\n"
     ]
    }
   ],
   "source": [
    "if __name__ == \"__main__\":\n",
    "  app.run()"
   ]
  },
  {
   "cell_type": "code",
   "execution_count": null,
   "id": "300c6fb7",
   "metadata": {},
   "outputs": [],
   "source": []
  }
 ],
 "metadata": {
  "kernelspec": {
   "display_name": "Python 3 (ipykernel)",
   "language": "python",
   "name": "python3"
  },
  "language_info": {
   "codemirror_mode": {
    "name": "ipython",
    "version": 3
   },
   "file_extension": ".py",
   "mimetype": "text/x-python",
   "name": "python",
   "nbconvert_exporter": "python",
   "pygments_lexer": "ipython3",
   "version": "3.9.13"
  }
 },
 "nbformat": 4,
 "nbformat_minor": 5
}
